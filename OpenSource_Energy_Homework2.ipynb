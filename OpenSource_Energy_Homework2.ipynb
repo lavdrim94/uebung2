{
 "cells": [
  {
   "cell_type": "code",
   "execution_count": 1,
   "id": "4c93d754",
   "metadata": {},
   "outputs": [
    {
     "data": {
      "application/javascript": [
       "if (typeof IPython !== 'undefined') { IPython.OutputArea.prototype._should_scroll = function(lines){ return false; }}"
      ],
      "text/plain": [
       "<IPython.core.display.Javascript object>"
      ]
     },
     "metadata": {},
     "output_type": "display_data"
    }
   ],
   "source": [
    "#AR6_Scenarios_Database_R6_regions_v1.1\n",
    "#import the following packages\n",
    "import pyam\n",
    "import pandas as pd\n",
    "import matplotlib.pyplot as plt\n",
    "import matplotlib.style"
   ]
  },
  {
   "cell_type": "code",
   "execution_count": 3,
   "id": "9d2342bf",
   "metadata": {},
   "outputs": [],
   "source": [
    "#First the CSV-File need to be imported, wich can be downloaded from: https://data.ene.iiasa.ac.at/ar6/#/downloads"
   ]
  },
  {
   "cell_type": "code",
   "execution_count": null,
   "id": "f86857f4",
   "metadata": {},
   "outputs": [],
   "source": [
    "ex2_df = pyam.IamDataFrame(\"AR6_Scenarios_Database_R6_regions_v1.1.csv\")"
   ]
  },
  {
   "cell_type": "code",
   "execution_count": null,
   "id": "e6c02e53",
   "metadata": {},
   "outputs": [],
   "source": []
  },
  {
   "cell_type": "code",
   "execution_count": null,
   "id": "c626428c",
   "metadata": {},
   "outputs": [],
   "source": []
  },
  {
   "cell_type": "code",
   "execution_count": null,
   "id": "646c3f0d",
   "metadata": {},
   "outputs": [],
   "source": []
  },
  {
   "cell_type": "code",
   "execution_count": null,
   "id": "92f54b5e",
   "metadata": {},
   "outputs": [],
   "source": []
  }
 ],
 "metadata": {
  "kernelspec": {
   "display_name": "Python 3 (ipykernel)",
   "language": "python",
   "name": "python3"
  },
  "language_info": {
   "codemirror_mode": {
    "name": "ipython",
    "version": 3
   },
   "file_extension": ".py",
   "mimetype": "text/x-python",
   "name": "python",
   "nbconvert_exporter": "python",
   "pygments_lexer": "ipython3",
   "version": "3.9.7"
  }
 },
 "nbformat": 4,
 "nbformat_minor": 5
}
